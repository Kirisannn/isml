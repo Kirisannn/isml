{
 "cells": [
  {
   "cell_type": "markdown",
   "id": "17696cd6-178b-4620-920f-965dfd732a7b",
   "metadata": {},
   "source": [
    "# ISML Assignment 02 - a1818695"
   ]
  },
  {
   "cell_type": "code",
   "execution_count": 1,
   "id": "68d801ec-8f9d-4f50-922f-3cadb1e2fff3",
   "metadata": {},
   "outputs": [],
   "source": [
    "# Import necessary libraries\n",
    "import os\n",
    "import sys\n",
    "import numpy as np\n",
    "import cvxpy as cp\n",
    "from sklearn.metrics import accuracy_score\n",
    "from sklearn.svm import LinearSVC"
   ]
  },
  {
   "cell_type": "code",
   "execution_count": 2,
   "id": "c20f8e3a-8f80-4244-830e-51c657f773b6",
   "metadata": {},
   "outputs": [],
   "source": [
    "training_data = np.loadtxt(\"train.csv\", delimiter = \",\")\n",
    "testing_data = np.loadtxt(\"test.csv\", delimiter = \",\")\n",
    "\n",
    "# Split training data\n",
    "X = training_data[:, 1:]\n",
    "y = training_data[:, 0]\n",
    "\n",
    "# Converting labels from 0 to -1\n",
    "y[y == 0] = -1 \n",
    "# Use first 4000 for training, remaining for validation\n",
    "X_train = X[:4000] \n",
    "y_train = y[:4000]\n",
    "X_val = X[4000:]\n",
    "y_val = y[4000:]\n",
    "\n",
    "# Split testing data\n",
    "X_test = testing_data[:, 1:]\n",
    "y_test = testing_data[:, 0]\n",
    "# Converting labels from 0 to -1\n",
    "y_test[y_test == 0] = -1"
   ]
  },
  {
   "cell_type": "markdown",
   "id": "f906f044-d1b5-4c53-9354-c1acac665d83",
   "metadata": {},
   "source": [
    "## Question 2:&nbsp;&nbsp;Soft-Margin Linear Support Vector Machine\n",
    "\n",
    "Please implement the training and testing algorithms of soft-margin Linear Support Vector Machine from its primal form, that is,\n",
    "\n",
    "$$\n",
    "\\min_{\\mathbf{w},b,\\{\\xi_i\\}} \\frac{1}{2} \\|\\mathbf{w}\\|_2^2  + \\frac{C}{N} \\sum_{i=1}^N \\xi_i ~~~~ s.t. ~~  y_i (\\mathbf{w}^\\top \\mathbf{x}_i + b) \\ge 1 - \\xi_i, ~~\\forall i, ~~\\xi_i \\ge 0 \\nonumber\n",
    "$$\n",
    "\n",
    "by using CVX.  Your implementation should follow the following I/O format:\n",
    "<br>\n",
    "<br>\n",
    "<b>svm_model = svm_train_primal(data_train, label_train, regularisation_para_C)</b>\n",
    "<br>\n",
    "<b>test_accuracy = (data_test, label_test, svm_model)</b>\n",
    "<br>\n",
    "<br>\n",
    "By setting C = 100, run your implementation, please report the solution of $\\boldsymbol {\\it b} $ and sum of all dimensions of $\\boldsymbol {\\it w} $ solution, e.g., np.sum(w). (For a quick check of the correctness of your code)"
   ]
  },
  {
   "cell_type": "code",
   "execution_count": 3,
   "id": "f214c9fa-3d45-4577-8231-feaf2c5c5b2b",
   "metadata": {},
   "outputs": [],
   "source": [
    "def svm_train_primal(data_train, label_train, regularisation_para_C):\n",
    "    N = data_train.shape[0]\n",
    "    M = data_train.shape[1]\n",
    "    \n",
    "    # Define weight vector, w, and bias term, b\n",
    "    w = cp.Variable(M)\n",
    "    b = cp.Variable()\n",
    "    xi = cp.Variable(N)\n",
    "    \n",
    "    # Define the objective function, in this case the primal\n",
    "    objective = cp.Minimize(0.5 * cp.norm2(w)**2 + (regularisation_para_C / N) * cp.sum(xi))\n",
    "    constraints = []\n",
    "    for i in range(N):\n",
    "        constraints.append(\n",
    "            label_train[i] * (data_train[i, :] @ w + b) >= 1 - xi[i]\n",
    "        )\n",
    "\n",
    "    constraints.append(xi >= 0)\n",
    "\n",
    "    problem = cp.Problem(objective, constraints)\n",
    "    problem.solve(solver = cp.CLARABEL) # Set verbose=True during debugging\n",
    "\n",
    "    \n",
    "    return w.value, b.value, xi.value\n",
    "\n",
    "def svm_predict_primal(data_test, label_test, svm_model):\n",
    "    w_sol = svm_model[0]\n",
    "    b_sol = svm_model[1]\n",
    "\n",
    "    predictions = np.sign(data_test @ w_sol + b_sol)\n",
    "\n",
    "    accuracy = np.mean(predictions == label_test)\n",
    "\n",
    "    return accuracy"
   ]
  },
  {
   "cell_type": "code",
   "execution_count": 4,
   "id": "90dd4c1c-e553-4466-8325-a63acdf231ae",
   "metadata": {
    "scrolled": true
   },
   "outputs": [],
   "source": [
    "# Set C = 100 and train\n",
    "C = 100\n",
    "svm_primal_model = svm_train_primal(X_train, y_train, C)"
   ]
  },
  {
   "cell_type": "code",
   "execution_count": 5,
   "id": "4c11e312-9b7d-46f0-8003-12fddb6ca466",
   "metadata": {},
   "outputs": [],
   "source": [
    "# Predict & calculate accuracy\n",
    "test_accuracy = svm_predict_primal(X_test, y_test, svm_primal_model)"
   ]
  },
  {
   "cell_type": "code",
   "execution_count": 6,
   "id": "b002e2e8-320f-48f8-ada8-0e3b27383b5e",
   "metadata": {},
   "outputs": [
    {
     "name": "stdout",
     "output_type": "stream",
     "text": [
      "Test Accuracy: 0.968\n",
      "Sum of all dimensions of w: -0.14521544474819548\n",
      "Solution for b: 1.7798137266344365\n"
     ]
    }
   ],
   "source": [
    "# Output results\n",
    "print(f\"Test Accuracy: {test_accuracy:}\")\n",
    "print(f\"Sum of all dimensions of w: {np.sum(svm_primal_model[0])}\")\n",
    "print(f\"Solution for b: {svm_primal_model[1]}\")"
   ]
  },
  {
   "cell_type": "markdown",
   "id": "835b62d3-437f-4172-84cf-41533bf3f23f",
   "metadata": {},
   "source": [
    "## Question 3\n",
    "\n",
    "Please implement the training algorithm of the soft-margin Linear Support Vector Machine from its dual form, that is,\n",
    "\n",
    "$$\n",
    "max_{\\alpha _i}\\sum_i \\alpha_i - \\frac{1}{2}\\sum_i \\sum_j \\alpha_i \\alpha_j y_i y_j <\\mathbf x_i, \\mathbf x_j>\n",
    "\\quad s.t. \\quad 0 \\le \\alpha_i \\le \\frac{C}{N}, \\quad \\sum_i \\alpha_i y_i = 0\n",
    "$$\n",
    "\n",
    "by using CVX.  Your implementation should follow the following I/O format:\n",
    "<br>\n",
    "<br>\n",
    "<b>svm_model = svm_train_dual(data_train, label_train, regularisation_para_C)</b>\n",
    "<br>\n",
    "<br>\n",
    "By setting C = 100, run your implementation, please report the sum of all dimensions of the optimal $\\boldsymbol{\\alpha}$, e.g., np.sum(alpha). (For a quick check of the correctness of your code)"
   ]
  },
  {
   "cell_type": "code",
   "execution_count": 7,
   "id": "4219c58c-36b2-45b3-ab27-ff26a5f556c7",
   "metadata": {},
   "outputs": [],
   "source": [
    "def svm_train_dual(data_train, label_train, regularisation_para_C):\n",
    "    N = data_train.shape[0]\n",
    "\n",
    "    # Define dual var, alpha\n",
    "    alpha = cp.Variable(N)\n",
    "\n",
    "    # Define the objective function, in this case the dual\n",
    "    objective = cp.Maximize(cp.sum(alpha) - cp.multiply(0.5, cp.sum_squares(cp.multiply(alpha, label_train) @ data_train)))\n",
    "    constraints = [\n",
    "        alpha >= 0,\n",
    "        alpha <= regularisation_para_C / N,\n",
    "        cp.sum(cp.multiply(alpha, label_train)) == 0\n",
    "    ]\n",
    "\n",
    "    problem = cp.Problem(objective, constraints)\n",
    "    problem.solve(solver = cp.CLARABEL)\n",
    "    \n",
    "    return alpha.value"
   ]
  },
  {
   "cell_type": "code",
   "execution_count": 8,
   "id": "2bdfd306-ae2f-421c-8d4a-7918c3dd3482",
   "metadata": {
    "scrolled": true
   },
   "outputs": [],
   "source": [
    "# Train the SVM with the dual form\n",
    "alpha = svm_train_dual(X_train, y_train, C)"
   ]
  },
  {
   "cell_type": "code",
   "execution_count": 9,
   "id": "1b7c00aa-b75a-4909-b2b7-fd6f64779861",
   "metadata": {},
   "outputs": [
    {
     "name": "stdout",
     "output_type": "stream",
     "text": [
      "Sum of dimensions of the optimal alpha: 7.281637556042069\n"
     ]
    }
   ],
   "source": [
    "# Get the sum of alphas\n",
    "print(f\"Sum of dimensions of the optimal alpha: {np.sum(alpha)}\")"
   ]
  },
  {
   "cell_type": "markdown",
   "id": "225012b3-286e-4758-9388-8b4c2c09e592",
   "metadata": {},
   "source": [
    "## Question 4\n",
    "\n",
    "Write code to obtain the primal problem solution ${\\mathbf w ^ *}, {\\mathbf b ^ *}$ from its dual solution ${\\mathbf \\alpha} ^ *$. "
   ]
  },
  {
   "cell_type": "code",
   "execution_count": 10,
   "id": "3035c667-00fc-49ad-a296-7a3421e7206b",
   "metadata": {},
   "outputs": [],
   "source": [
    "def get_primal_solution_from_dual(data_train, label_train, alpha, regularisation_para_C):\n",
    "    # Compute the weight vector w* using broadcasting\n",
    "    w_star = np.sum(alpha[:, None] * label_train[:, None] * data_train, axis = 0)\n",
    "\n",
    "    # Find the support vectors where alpha > 0\n",
    "    supp_vect = np.where(alpha > 1e-5)[0]\n",
    "\n",
    "    # Find the bias term\n",
    "    bias_supp_vec = label_train[supp_vect] - np.dot(data_train[supp_vect], w_star)\n",
    "    b_star = np.mean(bias_supp_vec)\n",
    "    \n",
    "    return {\"w*\" : w_star, \"b*\" : b_star}"
   ]
  },
  {
   "cell_type": "code",
   "execution_count": 11,
   "id": "cdc7f54d-5e23-4798-8d7c-c7c875c9315f",
   "metadata": {},
   "outputs": [
    {
     "name": "stdout",
     "output_type": "stream",
     "text": [
      "w*:  -0.14520080013946735\n",
      "b*:  1.7389390157768372\n"
     ]
    }
   ],
   "source": [
    "# Get primal weights and bias from dual solution\n",
    "primal_from_dual = get_primal_solution_from_dual(X_train, y_train, alpha, 100)\n",
    "\n",
    "print(\"w*: \", np.sum(primal_from_dual[\"w*\"]))\n",
    "print(\"b*: \", primal_from_dual[\"b*\"])"
   ]
  },
  {
   "cell_type": "markdown",
   "id": "06d41981-288a-44aa-91ea-ddfda4f8717d",
   "metadata": {},
   "source": [
    "## Question 5\n",
    "\n",
    "Write code to find the support vectors from the primal problem solutions."
   ]
  },
  {
   "cell_type": "code",
   "execution_count": 12,
   "id": "acf6877a-2ee6-4dc7-84b5-331fe5f32750",
   "metadata": {},
   "outputs": [],
   "source": [
    "def get_sv_from_primal(data_train, label_train, svm_primal_model):\n",
    "    # Set constraints\n",
    "    constraint = data_train @ svm_primal_model[0] + svm_primal_model[1]\n",
    "\n",
    "    # Get Support Vectors\n",
    "    supp_vec = (np.multiply(label_train, constraint) - 1 + svm_primal_model[2]) <= 1e-4\n",
    "    primal_supp_vec = data_train[supp_vec]\n",
    "\n",
    "    return primal_supp_vec"
   ]
  },
  {
   "cell_type": "code",
   "execution_count": 13,
   "id": "2b741bec-a5dd-43eb-b85a-a681dc49932c",
   "metadata": {},
   "outputs": [
    {
     "name": "stdout",
     "output_type": "stream",
     "text": [
      "No. of support vectors from primal: 392\n"
     ]
    }
   ],
   "source": [
    "primal_supp_vec = get_sv_from_primal(X_train, y_train, svm_primal_model)\n",
    "\n",
    "print(f\"No. of support vectors from primal: {len(primal_supp_vec)}\")"
   ]
  },
  {
   "cell_type": "markdown",
   "id": "54fe5099-e10e-4893-8ba7-9f2a946569f0",
   "metadata": {},
   "source": [
    "## Question 6\n",
    "\n",
    "Write code to find the support vectors from the dual problem solutions."
   ]
  },
  {
   "cell_type": "code",
   "execution_count": 14,
   "id": "d65211b8-73f8-4bd0-852d-56825b96d5e8",
   "metadata": {},
   "outputs": [],
   "source": [
    "def get_sv_from_dual(data_train, alpha):\n",
    "    supp_vec = np.where(alpha > 1e-5)[0]\n",
    "    dual_supp_vec = data_train[supp_vec]\n",
    "\n",
    "    return dual_supp_vec"
   ]
  },
  {
   "cell_type": "code",
   "execution_count": 15,
   "id": "01ab4d8e-8a27-4b95-96f5-a652e3fb4795",
   "metadata": {},
   "outputs": [
    {
     "name": "stdout",
     "output_type": "stream",
     "text": [
      "No. of support vectors from dual: 392\n"
     ]
    }
   ],
   "source": [
    "dual_supp_vec = get_sv_from_dual(X_train, alpha)\n",
    "\n",
    "print(f\"No. of support vectors from dual: {len(dual_supp_vec)}\")"
   ]
  },
  {
   "cell_type": "markdown",
   "id": "fea84431-1fac-43f6-b990-4aa4ee7bd407",
   "metadata": {},
   "source": [
    "## Question 7\n",
    "\n",
    "Write code to choose C by using the validation set. Report the test accuracy you get by using the optimal C found in the validation set. \n",
    "<br>\n",
    "Hint: you can search C from the range $\\set {2^{-10}, 2^{-8}, 2^{-6}, \\cdots , 2^{10}}  $"
   ]
  },
  {
   "cell_type": "code",
   "execution_count": 16,
   "id": "f26b54a3-484d-4cf9-9ef4-1a5dee2e001b",
   "metadata": {},
   "outputs": [],
   "source": [
    "def find_optimalC(data_train, label_train, data_val, label_val, range_of_C):\n",
    "    best_acc = 0\n",
    "    optimalC = None\n",
    "    \n",
    "    for C in range_of_C:\n",
    "        svm_primal_model = svm_train_primal(data_train, label_train, C)\n",
    "        validation_acc = svm_predict_primal(data_val, label_val, svm_primal_model)\n",
    "\n",
    "        if validation_acc > best_acc:\n",
    "            best_acc = validation_acc\n",
    "            optimalC = C\n",
    "\n",
    "    return optimalC, best_acc            "
   ]
  },
  {
   "cell_type": "code",
   "execution_count": 17,
   "id": "8c2676aa-e74f-4934-a392-32e210ee18dd",
   "metadata": {},
   "outputs": [
    {
     "name": "stdout",
     "output_type": "stream",
     "text": [
      "Optimal C: 4\n",
      "Validation Accuracy: 0.9748888888888889\n"
     ]
    }
   ],
   "source": [
    "range_of_C = [2**-10, 2**-8, 2**-6, 2**-4, 2**-2, 2**0, 2**2, 2**4, 2**8, 2**10]\n",
    "optimal = find_optimalC(X_train, y_train, X_val, y_val, range_of_C)\n",
    "\n",
    "print(f\"Optimal C: {optimal[0]}\")\n",
    "print(f\"Validation Accuracy: {optimal[1]}\")"
   ]
  },
  {
   "cell_type": "markdown",
   "id": "154f9c40-a20c-49cd-bc59-b1aa2dda596a",
   "metadata": {},
   "source": [
    "## Question 8\n",
    "\n",
    "Please study one of the following packages and perform classification with linear SVM (with optimal C searched in the validation set) on the assignment dataset\n",
    "\n",
    "1. [Libsvm](https://www.csie.ntu.edu.tw/~cjlin/libsvm/)\n",
    "\n",
    "2. [Scikit-learn SVM](https://scikit-learn.org/stable/modules/generated/sklearn.svm.LinearSVC.html#sklearn.svm.LinearSVC\n",
    ")\n",
    "\n",
    "Please report your test accuracy."
   ]
  },
  {
   "cell_type": "code",
   "execution_count": 18,
   "id": "36b702df-fd0c-411c-b995-3526602af235",
   "metadata": {},
   "outputs": [
    {
     "name": "stdout",
     "output_type": "stream",
     "text": [
      "LinearSVC with optimal C: 4, Test Accuracy: 0.9713333333333334\n"
     ]
    }
   ],
   "source": [
    "# Train model using LinearSVC\n",
    "sklearn_model = LinearSVC(C = 4, max_iter = 100000, random_state = 42)\n",
    "sklearn_model.fit(X_train, y_train)\n",
    "\n",
    "# Predict on Test set\n",
    "test_acc = accuracy_score(y_test, sklearn_model.predict(X_test))\n",
    "\n",
    "print(f\"LinearSVC with optimal C: {optimal[0]}, Test Accuracy: {test_acc}\")"
   ]
  },
  {
   "cell_type": "code",
   "execution_count": null,
   "id": "b7579e2f-ed0a-4657-b836-5711c461bfd4",
   "metadata": {},
   "outputs": [],
   "source": []
  }
 ],
 "metadata": {
  "kernelspec": {
   "display_name": "Python 3 (ipykernel)",
   "language": "python",
   "name": "python3"
  },
  "language_info": {
   "codemirror_mode": {
    "name": "ipython",
    "version": 3
   },
   "file_extension": ".py",
   "mimetype": "text/x-python",
   "name": "python",
   "nbconvert_exporter": "python",
   "pygments_lexer": "ipython3",
   "version": "3.12.4"
  }
 },
 "nbformat": 4,
 "nbformat_minor": 5
}
