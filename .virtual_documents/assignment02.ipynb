





# Import necessary libraries
import os
import sys
import numpy as np
import pandas as pd
import matplotlib as mpl


pip install cvxpy



