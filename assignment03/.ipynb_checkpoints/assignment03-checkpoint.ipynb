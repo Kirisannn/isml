{
 "cells": [
  {
   "cell_type": "markdown",
   "id": "561ae6fa-86ab-4c5c-9b49-f18839544193",
   "metadata": {},
   "source": [
    "# ISML - Assignment03\n",
    "\n",
    "Data is a subsampled version of the MNIST dataset. It contains images for 10 digits (10 classes). The dataset contains 6,000 samples. The images from the data set have the size 28 x 28. They are saved in the csv data files. Every line of these files consists of an image, i.e. 785 numbers between 0 and 1. The first number of each line is the label, i.e. the digit which is depicted in the image. The following 784 numbers are the pixels of the 28 x 28 image."
   ]
  },
  {
   "cell_type": "markdown",
   "id": "23f6d140-7b2d-41f6-bb87-70f8a6209d27",
   "metadata": {
    "jp-MarkdownHeadingCollapsed": true
   },
   "source": [
    "### Setup"
   ]
  },
  {
   "cell_type": "code",
   "execution_count": 1,
   "id": "df2cde9d-2d22-4582-95ee-5985b811fb12",
   "metadata": {},
   "outputs": [],
   "source": [
    "import warnings\n",
    "warnings.filterwarnings(\"ignore\")\n",
    "\n",
    "import numpy as np\n",
    "import pandas as pd\n",
    "import matplotlib.pyplot as plt"
   ]
  },
  {
   "cell_type": "code",
   "execution_count": 2,
   "id": "364efcb8-60d2-4b74-8de5-ceab564ca1dc",
   "metadata": {},
   "outputs": [
    {
     "name": "stdout",
     "output_type": "stream",
     "text": [
      "<class 'pandas.core.frame.DataFrame'>\n",
      "RangeIndex: 6000 entries, 0 to 5999\n",
      "Columns: 785 entries, label to pixel_784\n",
      "dtypes: float64(785)\n",
      "memory usage: 35.9 MB\n"
     ]
    }
   ],
   "source": [
    "np.random.seed(2024)\n",
    "\n",
    "# Load dataset\n",
    "df = pd.read_csv('mnist.csv', header=None)\n",
    "\n",
    "# Rename the first column as 'label' and the rest as 'pixel_1', 'pixel_2', ..., 'pixel_784'\n",
    "column_names = ['label'] + [f'pixel_{i}' for i in range(1, 785)]\n",
    "df.columns = column_names\n",
    "\n",
    "df.head()\n",
    "df.info()"
   ]
  },
  {
   "cell_type": "raw",
   "id": "371a04d9-a561-4706-8a51-7a97a6d616f7",
   "metadata": {},
   "source": [
    "# Inspecting value counts\n",
    "df['label'].value_counts()"
   ]
  },
  {
   "cell_type": "raw",
   "id": "72803102-6a2f-4b97-ace3-6dc39b7357d4",
   "metadata": {},
   "source": [
    "# Plot a few random images from the dataset\n",
    "def plot_image(image_data, label):\n",
    "    plt.imshow(image_data.values.reshape(28, 28), cmap='gray')\n",
    "    plt.title(f\"Digit: {label}\")\n",
    "    plt.axis('off')\n",
    "    plt.show()"
   ]
  },
  {
   "cell_type": "raw",
   "id": "32409225-0dc4-4ab8-a8a2-37aa75cd78c0",
   "metadata": {},
   "source": [
    "# Example: Plot the first 5 images\n",
    "for i in range(5):\n",
    "    label = df.loc[i, 'label']\n",
    "    image_data = df.loc[i, 'pixel_1':]  # Get pixel values (from pixel_1 to pixel_784)\n",
    "    plot_image(image_data, label)"
   ]
  },
  {
   "cell_type": "code",
   "execution_count": 3,
   "id": "9bb37c87-eebf-4deb-b61e-ce65168bc72f",
   "metadata": {},
   "outputs": [],
   "source": [
    "y = df.iloc[:, :1]\n",
    "X = df.iloc[:, 1:]\n",
    "k=10"
   ]
  },
  {
   "cell_type": "markdown",
   "id": "e6bd6a45-c200-43c0-ab37-b7c16e3bd536",
   "metadata": {
    "jp-MarkdownHeadingCollapsed": true
   },
   "source": [
    "## Question 01\n",
    "\n",
    "Perform PCA on the dataset to reduce each sample into a 10-dimensional feature vector. Show the covariance matrix of the transformed data. Please also copy your code snippet here. "
   ]
  },
  {
   "cell_type": "markdown",
   "id": "f4942e5d-9534-4fa0-bf68-9e4cb7374e26",
   "metadata": {},
   "source": [
    "### Results with Custom Implementation"
   ]
  },
  {
   "cell_type": "code",
   "execution_count": 4,
   "id": "4bc29995-8070-4b9f-9a8c-cdb734a15f9d",
   "metadata": {},
   "outputs": [
    {
     "name": "stdout",
     "output_type": "stream",
     "text": [
      "\n",
      "Using custom PCA:\n",
      "The input x has shape (6000, 784), and the transformed X has shape (6000, 10)\n",
      "The sum of the input covariance matrix is 1127.90333.\n",
      "The sum of the transformed covariance matrix is 26.22057.\n"
     ]
    }
   ],
   "source": [
    "class customPCA:\n",
    "    def __init__(self, x, n_components=None):\n",
    "        self.x = x\n",
    "        self.n_components = n_components\n",
    "        self.num_samples, self.num_features = x.shape\n",
    "        self.cov_mat = None\n",
    "        self.P = None\n",
    "        self.y = None\n",
    "\n",
    "    def cov(self):\n",
    "        self.cov_mat = np.cov(self.x.T)\n",
    "        return self.cov_mat\n",
    "    \n",
    "    def standardization(self):\n",
    "        return self.x - np.mean(self.x, axis=0)  # Mean centering the data\n",
    "    \n",
    "    def reduce_feature(self):\n",
    "        x_meaned = self.standardization()  # Step 1: Mean centering the data\n",
    "        x_cov = self.cov()  # Step 2: Compute covariance matrix\n",
    "        eigen_val, eigen_vec = np.linalg.eig(x_cov)  # Step 3: Eigen decomposition\n",
    "        \n",
    "        # Step 4: Sort eigenvalues and corresponding eigenvectors in descending order\n",
    "        sort_index = np.argsort(eigen_val)[::-1]  # Sort in descending order\n",
    "        sorted_eigenval = eigen_val[sort_index]\n",
    "        sorted_eigenvector = eigen_vec[:, sort_index]\n",
    "        \n",
    "        # Select the top `n_components` eigenvectors\n",
    "        self.P = sorted_eigenvector[:, :self.n_components]\n",
    "        \n",
    "        # Step 5: Transform the data using the selected principal components\n",
    "        self.y = np.dot(x_meaned, self.P)\n",
    "        return self.y\n",
    "\n",
    "# Perform PCA to reduce to 10 dimensions\n",
    "pca1 = customPCA(X, n_components=k) # Custom implementation\n",
    "transformed_pca1 = pca1.reduce_feature()\n",
    "\n",
    "print(f'\\nUsing custom PCA:')\n",
    "print(f'The input x has shape {X.shape}, and the transformed X has shape {transformed_pca1.shape}')\n",
    "print(f'The sum of the input covariance matrix is {round(np.sum(pca1.cov_mat), 5)}.')\n",
    "print(f'The sum of the transformed covariance matrix is {round(np.sum(np.cov(transformed_pca1.T)).real, 5)}.')\n"
   ]
  },
  {
   "cell_type": "markdown",
   "id": "83fa402b-d99a-4163-bc96-4c7c40044c4a",
   "metadata": {},
   "source": [
    "### Results with Scikit-Learn"
   ]
  },
  {
   "cell_type": "code",
   "execution_count": 5,
   "id": "88b00f48-5d6f-4c63-82b6-5d1c893792b4",
   "metadata": {},
   "outputs": [
    {
     "name": "stdout",
     "output_type": "stream",
     "text": [
      "\n",
      "Using scikit-learn PCA:\n",
      "The input X has shape (6000, 784), and the transformed X has shape (6000, 10)\n",
      "The sum of the input covariance matrix is 1127.90333.\n",
      "The sum of the transformed covariance matrix is 26.22056.\n"
     ]
    }
   ],
   "source": [
    "from sklearn.decomposition import PCA\n",
    "\n",
    "pca2 = PCA(n_components=10)\n",
    "transformed_pca2 = pca2.fit_transform(X)\n",
    "\n",
    "print(f'\\nUsing scikit-learn PCA:')\n",
    "print(f'The input X has shape {X.shape}, and the transformed X has shape {transformed_pca2.shape}')\n",
    "print(f'The sum of the input covariance matrix is {round(np.sum(np.cov(X.T)), 5)}.')\n",
    "print(f'The sum of the transformed covariance matrix is {round(np.sum(np.cov(transformed_pca2.T)), 5)}.')"
   ]
  },
  {
   "cell_type": "markdown",
   "id": "f9c840a4-a964-42b4-a109-e6d8697902ed",
   "metadata": {
    "jp-MarkdownHeadingCollapsed": true
   },
   "source": [
    "## Question 02\n",
    "\n",
    "Perform k-means clustering to cluster the dataset (without applying PCA) into 10 groups."
   ]
  },
  {
   "cell_type": "code",
   "execution_count": 6,
   "id": "9910d962-efac-48a3-9d71-17d527f8c1ee",
   "metadata": {},
   "outputs": [],
   "source": [
    "# Initialize loss outside the function\n",
    "loss = []\n",
    "\n",
    "def k_means(x, k=2, epochs=600):\n",
    "    # 1. Randomly initialize k centroids\n",
    "    cluster_center = x[np.random.choice(x.shape[0], k, replace=False), :]\n",
    "\n",
    "    # Initialize clusters\n",
    "    clusters = [[] for _ in range(k)]\n",
    "    \n",
    "    # 2. Training\n",
    "    for _ in range(epochs):\n",
    "        new_clusters_center = np.zeros((k, x.shape[1]))\n",
    "\n",
    "        # Reset clusters\n",
    "        for i in range(k):\n",
    "            clusters[i] = []  # Clear previous cluster assignments\n",
    "\n",
    "        ## a. E-step: Assign points to the nearest centroid\n",
    "        for i in range(x.shape[0]):\n",
    "            xi = x[i]\n",
    "            distances = np.linalg.norm(cluster_center - xi, axis=1)\n",
    "            c = np.argmin(distances)\n",
    "            clusters[c].append(i)  # Append this data point to the corresponding cluster\n",
    "\n",
    "        ## b. M-step: Recalculate centroids\n",
    "        for i in range(k):\n",
    "            if len(clusters[i]) > 0:\n",
    "                new_clusters_center[i] = np.mean(x[clusters[i]], axis=0)\n",
    "            else:\n",
    "                new_clusters_center[i] = x[np.random.randint(0, x.shape[0])]\n",
    "\n",
    "        # c. Check for convergence\n",
    "        if np.all(new_clusters_center == cluster_center):\n",
    "            break  # Converged, stop iterations\n",
    "\n",
    "        # d. Update centroids and calculate loss\n",
    "        loss.append(abs(np.sum(new_clusters_center - cluster_center)))\n",
    "        cluster_center = new_clusters_center\n",
    "\n",
    "    return clusters, cluster_center, loss"
   ]
  },
  {
   "cell_type": "code",
   "execution_count": 7,
   "id": "ee4a2421-5c11-4543-8e4a-0bf4386ccd1b",
   "metadata": {},
   "outputs": [
    {
     "name": "stdout",
     "output_type": "stream",
     "text": [
      "Sum of cluster_center[0]:\t99.12486\n",
      "Sum of cluster_center[1]:\t65.63567\n",
      "Sum of cluster_center[2]:\t118.35355\n",
      "Sum of cluster_center[3]:\t118.67341\n",
      "Sum of cluster_center[4]:\t126.90236\n",
      "Sum of cluster_center[5]:\t146.09674\n",
      "Sum of cluster_center[6]:\t98.45303\n",
      "Sum of cluster_center[7]:\t95.08162\n",
      "Sum of cluster_center[8]:\t112.39384\n",
      "Sum of cluster_center[9]:\t69.77099\n"
     ]
    }
   ],
   "source": [
    "clusters, cluster_center, loss = k_means(X.values, 10)\n",
    "\n",
    "for i in range(len(cluster_center)):\n",
    "    print(f\"Sum of cluster_center[{i}]:\\t{round(np.sum(cluster_center[i]),5)}\")"
   ]
  },
  {
   "cell_type": "markdown",
   "id": "cd60ac45-428d-4d7d-8c96-07095fcc6dd7",
   "metadata": {},
   "source": [
    "## Question 03\n",
    "\n",
    "Please plot the loss curve, that is, the change of loss value of the k-means algorithm with respect to the number of iterations."
   ]
  },
  {
   "cell_type": "code",
   "execution_count": 8,
   "id": "489a818b-e227-412b-9d1e-649df2f5864d",
   "metadata": {},
   "outputs": [],
   "source": [
    "# Method to plot the loss curve\n",
    "def lossPlot(loss):\n",
    "    plt.plot(range(len(loss)), loss, marker='o', label=\"Loss\")\n",
    "    plt.title(\"Loss Curve for K-Means\")\n",
    "    plt.xlabel(\"Epochs\")\n",
    "    plt.ylabel(\"Loss (Change in Centroid Positions)\")\n",
    "    plt.grid(True, which='both', linestyle='--', linewidth=0.5)\n",
    "    plt.show()"
   ]
  },
  {
   "cell_type": "code",
   "execution_count": 9,
   "id": "1c93c61d-6f90-4776-b727-0b29b7d8d3f8",
   "metadata": {},
   "outputs": [
    {
     "data": {
      "image/png": "[encoded data removed]",
      "text/plain": [
       "<Figure size 640x480 with 1 Axes>"
      ]
     },
     "metadata": {},
     "output_type": "display_data"
    }
   ],
   "source": [
    "# Plot the loss curve after running k-means\n",
    "lossPlot(loss)"
   ]
  },
  {
   "cell_type": "markdown",
   "id": "6c05af0f-e405-4a25-a413-27e20f0fdcc1",
   "metadata": {},
   "source": [
    "## Question 04\n",
    "\n",
    "Please use the ***first 4000 samples*** as the **training set** and ***remaining 2000 samples*** as the **validation set**, and design a way to choose the **best k** in k-means algorithm."
   ]
  },
  {
   "cell_type": "code",
   "execution_count": 12,
   "id": "bc1c18aa-e3bf-4860-9ed0-ef9a16a33087",
   "metadata": {},
   "outputs": [],
   "source": [
    "# Training set\n",
    "X_train = X.values[:4000]\n",
    "y_train = y.values[:4000]\n",
    "\n",
    "# Testing set\n",
    "X_test = X.values[4000:]\n",
    "y_test = y.values[4000:]\n",
    "\n",
    "# Range of k values to test\n",
    "k_values = range(1,11)\n",
    "loss_values = []"
   ]
  },
  {
   "cell_type": "code",
   "execution_count": 13,
   "id": "e0192992-b8c1-4194-ade2-55c23bd8ce73",
   "metadata": {},
   "outputs": [
    {
     "name": "stdout",
     "output_type": "stream",
     "text": [
      "Training set shape: (4000, 784)\n",
      "Testing set shape: (2000, 784)\n"
     ]
    }
   ],
   "source": [
    "print(f\"Training set shape: {X_train.shape}\")\n",
    "print(f\"Testing set shape: {X_test.shape}\")"
   ]
  },
  {
   "cell_type": "code",
   "execution_count": 14,
   "id": "a93af969-3c0b-451c-a5cf-38b1841bfda0",
   "metadata": {},
   "outputs": [],
   "source": [
    "for k in k_values:\n",
    "    loss = []\n",
    "    clusters, cluster_center, loss = k_means(X_train, k)\n",
    "    loss_values.append(np.sum(loss))"
   ]
  },
  {
   "cell_type": "code",
   "execution_count": 15,
   "id": "71e02323-119f-4cf5-8773-02b8045941b2",
   "metadata": {},
   "outputs": [
    {
     "data": {
      "image/png": "[encoded data removed]",
      "text/plain": [
       "<Figure size 640x480 with 1 Axes>"
      ]
     },
     "metadata": {},
     "output_type": "display_data"
    }
   ],
   "source": [
    "lossPlot(loss_values)"
   ]
  },
  {
   "cell_type": "code",
   "execution_count": 16,
   "id": "a8d10315-38dd-4d87-b601-099c1c891dc5",
   "metadata": {},
   "outputs": [
    {
     "name": "stdout",
     "output_type": "stream",
     "text": [
      "Best k based on minimum loss:\t1\n"
     ]
    }
   ],
   "source": [
    "best_k = k_values[np.argmin(loss_values)]\n",
    "print(f\"Best k based on minimum loss:\\t{best_k}\")"
   ]
  },
  {
   "cell_type": "markdown",
   "id": "bef674c3-ad54-43ae-a5a8-101f9ce42763",
   "metadata": {},
   "source": [
    "## Question 05\n",
    "\n",
    "Please implement kernel k-means algorithm with RBF-kernel, that is, \n",
    "\n",
    "$$k(\\mathbf{x}_i,\\mathbf{x}_j) = \\exp(\\frac{-\\|\\mathbf{x}_i - \\mathbf{x}_j\\|_2^2}{2\\sigma^2})$$\n",
    "\n",
    "where the hyper-parameter can be empirically set to,\n",
    "\n",
    "$$2\\sigma^2 = \\frac{1}{N^2} \\sum_{i=1}^{N}\\sum_{j=1}^{N} \\| \\mathbf{x}_i -\\mathbf{x}_j\\|_2^2$$\n",
    "\n",
    "Please only use the first 500 samples and cluster the them into 5 groups. This is for reducing the running time of your code.\n",
    "\n",
    "**Tips**: If you can use matrix operations to replace summations, your code will be more efficient. However, this is just optional."
   ]
  },
  {
   "cell_type": "code",
   "execution_count": 13,
   "id": "4d5d8236-6f40-4565-b5fc-09b3401f9115",
   "metadata": {},
   "outputs": [],
   "source": [
    "def cal_RBF(x):\n",
    "    ## implement RBF method\n",
    "    n = x.shape[0]\n",
    "    # ==============================================================\n",
    "    # \"You need to initialize k\"\n",
    "    kernel_x = np.zeros((n, n))\n",
    "\n",
    "    # ==============================================================\n",
    "    sigma = 0\n",
    "\n",
    "    for i in range(n):\n",
    "        for j in range(n):\n",
    "            # ==============================================================\n",
    "            # \"You need to implement sigma here\"\n",
    "            distance_squared = np.linalg.norm(x[i] - x[j]) ** 2\n",
    "            sigma += distance_squared\n",
    "\n",
    "            # ==============================================================\n",
    "    sigma = sigma/(n**2)\n",
    "\n",
    "    for i in range(n):\n",
    "        for j in range(n):\n",
    "            # ==============================================================\n",
    "            # \"You need to implement kernel x here\"\n",
    "            kernel_x[i, j] = np.exp(-np.linalg.norm(x[i] - x[j])**2)/(2 * sigma)\n",
    "\n",
    "            # ==============================================================\n",
    "    return kernel_x"
   ]
  },
  {
   "cell_type": "code",
   "execution_count": 14,
   "id": "cc33de08-bd5e-480e-b888-461e062a612d",
   "metadata": {},
   "outputs": [],
   "source": [
    "kernel_x = cal_RBF(X_train)"
   ]
  },
  {
   "cell_type": "code",
   "execution_count": 15,
   "id": "be647130-6740-4511-964e-066389cf7bdc",
   "metadata": {},
   "outputs": [],
   "source": [
    "clusters, cluster_center = k_means(kernel_x, k)"
   ]
  },
  {
   "cell_type": "code",
   "execution_count": null,
   "id": "e1841e54-6cde-49a9-9bc0-544c5be29654",
   "metadata": {},
   "outputs": [],
   "source": []
  }
 ],
 "metadata": {
  "kernelspec": {
   "display_name": "Python 3 (ipykernel)",
   "language": "python",
   "name": "python3"
  },
  "language_info": {
   "codemirror_mode": {
    "name": "ipython",
    "version": 3
   },
   "file_extension": ".py",
   "mimetype": "text/x-python",
   "name": "python",
   "nbconvert_exporter": "python",
   "pygments_lexer": "ipython3",
   "version": "3.12.7"
  }
 },
 "nbformat": 4,
 "nbformat_minor": 5
}
